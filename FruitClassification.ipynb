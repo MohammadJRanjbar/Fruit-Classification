{
  "nbformat": 4,
  "nbformat_minor": 0,
  "metadata": {
    "colab": {
      "name": "FruitClassification.ipynb",
      "provenance": [],
      "collapsed_sections": [],
      "include_colab_link": true
    },
    "kernelspec": {
      "name": "python3",
      "display_name": "Python 3"
    },
    "accelerator": "GPU"
  },
  "cells": [
    {
      "cell_type": "markdown",
      "metadata": {
        "id": "view-in-github",
        "colab_type": "text"
      },
      "source": [
        "<a href=\"https://colab.research.google.com/github/MohammadJRanjbar/Fruit-Classification/blob/master/FruitClassification.ipynb\" target=\"_parent\"><img src=\"https://colab.research.google.com/assets/colab-badge.svg\" alt=\"Open In Colab\"/></a>"
      ]
    },
    {
      "cell_type": "code",
      "metadata": {
        "id": "8aN7fVg2yUsR",
        "colab_type": "code",
        "colab": {
          "base_uri": "https://localhost:8080/",
          "height": 163
        },
        "outputId": "ac0eeb32-ee85-4c8c-f0f1-5712a5c65ca7"
      },
      "source": [
        "!git clone https://github.com/Horea94/Fruit-Images-Dataset.git"
      ],
      "execution_count": 4,
      "outputs": [
        {
          "output_type": "stream",
          "text": [
            "Cloning into 'Fruit-Images-Dataset'...\n",
            "remote: Enumerating objects: 8693, done.\u001b[K\n",
            "remote: Counting objects: 100% (8693/8693), done.\u001b[K\n",
            "remote: Compressing objects: 100% (8672/8672), done.\u001b[K\n",
            "remote: Total 385858 (delta 36), reused 8670 (delta 21), pack-reused 377165\u001b[K\n",
            "Receiving objects: 100% (385858/385858), 2.10 GiB | 15.83 MiB/s, done.\n",
            "Resolving deltas: 100% (1196/1196), done.\n",
            "Checking out files: 100% (90503/90503), done.\n"
          ],
          "name": "stdout"
        }
      ]
    },
    {
      "cell_type": "code",
      "metadata": {
        "id": "NOy6kEZKygMs",
        "colab_type": "code",
        "colab": {
          "base_uri": "https://localhost:8080/",
          "height": 35
        },
        "outputId": "5a0a87cf-22c0-4b05-bef6-ad774c7f5d83"
      },
      "source": [
        "cd Fruit-Images-Dataset"
      ],
      "execution_count": 5,
      "outputs": [
        {
          "output_type": "stream",
          "text": [
            "/content/Fruit-Images-Dataset\n"
          ],
          "name": "stdout"
        }
      ]
    },
    {
      "cell_type": "code",
      "metadata": {
        "id": "hE_Q-oiD2hkD",
        "colab_type": "code",
        "colab": {}
      },
      "source": [
        "import keras \n",
        "from keras.models import Sequential \n",
        "from keras.layers import Convolution2D\n",
        "from keras.layers import MaxPooling2D\n",
        "from keras.layers import Flatten\n",
        "from keras.layers import Dense , Activation , Dropout\n",
        "from keras.preprocessing.image import ImageDataGenerator\n",
        "from keras.optimizers import SGD , Adam\n",
        "from keras.losses import categorical_crossentropy,binary_crossentropy\n",
        "import matplotlib.pyplot as plt "
      ],
      "execution_count": 6,
      "outputs": []
    },
    {
      "cell_type": "code",
      "metadata": {
        "id": "hu81aXHs5P-R",
        "colab_type": "code",
        "colab": {
          "base_uri": "https://localhost:8080/",
          "height": 54
        },
        "outputId": "1088d8ea-b7d8-4ea7-a9c9-f6560debf3c6"
      },
      "source": [
        "\n",
        "train_datagen = ImageDataGenerator(\n",
        "        rescale=1./255,\n",
        ")\n",
        "X_train=train_datagen.flow_from_directory('X',\n",
        "                                                 target_size = (100, 100),\n",
        "                                                 batch_size = 20,\n",
        "                                                 class_mode = 'categorical')\n",
        "\n",
        "test_datagen = ImageDataGenerator(rescale=1./255)  \n",
        "\n",
        "X_test=test_datagen.flow_from_directory('XT',\n",
        "                                                 target_size = (100, 100),\n",
        "                                                 batch_size = 20,\n",
        "                                                 class_mode = 'categorical')\n"
      ],
      "execution_count": 14,
      "outputs": [
        {
          "output_type": "stream",
          "text": [
            "Found 1927 images belonging to 4 classes.\n",
            "Found 646 images belonging to 4 classes.\n"
          ],
          "name": "stdout"
        }
      ]
    },
    {
      "cell_type": "code",
      "metadata": {
        "id": "oemci7Eh3Qvw",
        "colab_type": "code",
        "colab": {
          "base_uri": "https://localhost:8080/",
          "height": 35
        },
        "outputId": "c52fd177-f450-42bd-eda3-ee3cfff1a376"
      },
      "source": [
        "model=Sequential()\n",
        "model.add(Convolution2D(16, (3, 3), activation='relu', input_shape=(100, 100, 3)))\n",
        "model.add(Convolution2D(16, (3, 3), activation='relu', input_shape=(100, 100, 3)))\n",
        "model.add(MaxPooling2D((2, 2)))\n",
        "model.add(Flatten())\n",
        "model.add(Dense(10, activation='relu'))\n",
        "model.add(Dense(5, activation='sigmoid'))\n",
        "model.add(Dense(4, activation='softmax'))\n",
        "model.compile(optimizer=Adam() , loss=categorical_crossentropy,metrics=['accuracy'])\n",
        "filepath='weights0.{epoch:02d}-{val_loss:.2f}.hdf5'\n",
        "CB=keras.callbacks.ModelCheckpoint(filepath, monitor='val_loss', verbose=0, save_best_only=True, save_weights_only=False, mode='auto', period=1)\n",
        "\n"
      ],
      "execution_count": 15,
      "outputs": [
        {
          "output_type": "stream",
          "text": [
            "WARNING:tensorflow:`period` argument is deprecated. Please use `save_freq` to specify the frequency in number of batches seen.\n"
          ],
          "name": "stdout"
        }
      ]
    },
    {
      "cell_type": "code",
      "metadata": {
        "id": "z-3mWYOhckUq",
        "colab_type": "code",
        "colab": {
          "base_uri": "https://localhost:8080/",
          "height": 1000
        },
        "outputId": "db518d7f-c70a-4265-a9de-4794801ae4f5"
      },
      "source": [
        "history =model.fit(X_train,epochs=48,validation_data=(X_test), callbacks=[CB])"
      ],
      "execution_count": 16,
      "outputs": [
        {
          "output_type": "stream",
          "text": [
            "Epoch 1/48\n",
            "97/97 [==============================] - 2s 25ms/step - loss: 1.1016 - accuracy: 0.7078 - val_loss: 0.9823 - val_accuracy: 1.0000\n",
            "Epoch 2/48\n",
            "97/97 [==============================] - 2s 23ms/step - loss: 0.8531 - accuracy: 0.9984 - val_loss: 0.8399 - val_accuracy: 0.9241\n",
            "Epoch 3/48\n",
            "97/97 [==============================] - 2s 23ms/step - loss: 0.7292 - accuracy: 1.0000 - val_loss: 0.7195 - val_accuracy: 0.9365\n",
            "Epoch 4/48\n",
            "97/97 [==============================] - 2s 23ms/step - loss: 0.6449 - accuracy: 1.0000 - val_loss: 0.6527 - val_accuracy: 0.9334\n",
            "Epoch 5/48\n",
            "97/97 [==============================] - 2s 22ms/step - loss: 0.5758 - accuracy: 1.0000 - val_loss: 0.5932 - val_accuracy: 0.9334\n",
            "Epoch 6/48\n",
            "97/97 [==============================] - 2s 23ms/step - loss: 0.5171 - accuracy: 1.0000 - val_loss: 0.5465 - val_accuracy: 0.9288\n",
            "Epoch 7/48\n",
            "97/97 [==============================] - 2s 23ms/step - loss: 0.4670 - accuracy: 1.0000 - val_loss: 0.5059 - val_accuracy: 0.9272\n",
            "Epoch 8/48\n",
            "97/97 [==============================] - 2s 23ms/step - loss: 0.4234 - accuracy: 1.0000 - val_loss: 0.4719 - val_accuracy: 0.9272\n",
            "Epoch 9/48\n",
            "97/97 [==============================] - 2s 23ms/step - loss: 0.3856 - accuracy: 1.0000 - val_loss: 0.4416 - val_accuracy: 0.9272\n",
            "Epoch 10/48\n",
            "97/97 [==============================] - 2s 23ms/step - loss: 0.3525 - accuracy: 1.0000 - val_loss: 0.4149 - val_accuracy: 0.9272\n",
            "Epoch 11/48\n",
            "97/97 [==============================] - 2s 23ms/step - loss: 0.3234 - accuracy: 1.0000 - val_loss: 0.3926 - val_accuracy: 0.9272\n",
            "Epoch 12/48\n",
            "97/97 [==============================] - 2s 23ms/step - loss: 0.2976 - accuracy: 1.0000 - val_loss: 0.3741 - val_accuracy: 0.9257\n",
            "Epoch 13/48\n",
            "97/97 [==============================] - 2s 23ms/step - loss: 0.2745 - accuracy: 1.0000 - val_loss: 0.3565 - val_accuracy: 0.9257\n",
            "Epoch 14/48\n",
            "97/97 [==============================] - 2s 23ms/step - loss: 0.2540 - accuracy: 1.0000 - val_loss: 0.3421 - val_accuracy: 0.9257\n",
            "Epoch 15/48\n",
            "97/97 [==============================] - 2s 22ms/step - loss: 0.2355 - accuracy: 1.0000 - val_loss: 0.3291 - val_accuracy: 0.9257\n",
            "Epoch 16/48\n",
            "97/97 [==============================] - 2s 23ms/step - loss: 0.2189 - accuracy: 1.0000 - val_loss: 0.3160 - val_accuracy: 0.9272\n",
            "Epoch 17/48\n",
            "97/97 [==============================] - 2s 23ms/step - loss: 0.2038 - accuracy: 1.0000 - val_loss: 0.3048 - val_accuracy: 0.9272\n",
            "Epoch 18/48\n",
            "97/97 [==============================] - 2s 23ms/step - loss: 0.1903 - accuracy: 1.0000 - val_loss: 0.2983 - val_accuracy: 0.9257\n",
            "Epoch 19/48\n",
            "97/97 [==============================] - 2s 23ms/step - loss: 0.1778 - accuracy: 1.0000 - val_loss: 0.2911 - val_accuracy: 0.9257\n",
            "Epoch 20/48\n",
            "97/97 [==============================] - 2s 23ms/step - loss: 0.1664 - accuracy: 1.0000 - val_loss: 0.2822 - val_accuracy: 0.9272\n",
            "Epoch 21/48\n",
            "97/97 [==============================] - 2s 23ms/step - loss: 0.1561 - accuracy: 1.0000 - val_loss: 0.2754 - val_accuracy: 0.9272\n",
            "Epoch 22/48\n",
            "97/97 [==============================] - 2s 23ms/step - loss: 0.1465 - accuracy: 1.0000 - val_loss: 0.2718 - val_accuracy: 0.9257\n",
            "Epoch 23/48\n",
            "97/97 [==============================] - 2s 23ms/step - loss: 0.1377 - accuracy: 1.0000 - val_loss: 0.2649 - val_accuracy: 0.9272\n",
            "Epoch 24/48\n",
            "97/97 [==============================] - 2s 23ms/step - loss: 0.1296 - accuracy: 1.0000 - val_loss: 0.2627 - val_accuracy: 0.9257\n",
            "Epoch 25/48\n",
            "97/97 [==============================] - 2s 22ms/step - loss: 0.1221 - accuracy: 1.0000 - val_loss: 0.2585 - val_accuracy: 0.9257\n",
            "Epoch 26/48\n",
            "97/97 [==============================] - 2s 22ms/step - loss: 0.1151 - accuracy: 1.0000 - val_loss: 0.2540 - val_accuracy: 0.9272\n",
            "Epoch 27/48\n",
            "97/97 [==============================] - 2s 23ms/step - loss: 0.1087 - accuracy: 1.0000 - val_loss: 0.2525 - val_accuracy: 0.9272\n",
            "Epoch 28/48\n",
            "97/97 [==============================] - 2s 23ms/step - loss: 0.1027 - accuracy: 1.0000 - val_loss: 0.2488 - val_accuracy: 0.9272\n",
            "Epoch 29/48\n",
            "97/97 [==============================] - 2s 23ms/step - loss: 0.0972 - accuracy: 1.0000 - val_loss: 0.2466 - val_accuracy: 0.9272\n",
            "Epoch 30/48\n",
            "97/97 [==============================] - 2s 22ms/step - loss: 0.0919 - accuracy: 1.0000 - val_loss: 0.2465 - val_accuracy: 0.9257\n",
            "Epoch 31/48\n",
            "97/97 [==============================] - 2s 23ms/step - loss: 0.0871 - accuracy: 1.0000 - val_loss: 0.2444 - val_accuracy: 0.9257\n",
            "Epoch 32/48\n",
            "97/97 [==============================] - 2s 23ms/step - loss: 0.0825 - accuracy: 1.0000 - val_loss: 0.2423 - val_accuracy: 0.9272\n",
            "Epoch 33/48\n",
            "97/97 [==============================] - 2s 22ms/step - loss: 0.0783 - accuracy: 1.0000 - val_loss: 0.2427 - val_accuracy: 0.9257\n",
            "Epoch 34/48\n",
            "97/97 [==============================] - 2s 22ms/step - loss: 0.0743 - accuracy: 1.0000 - val_loss: 0.2413 - val_accuracy: 0.9272\n",
            "Epoch 35/48\n",
            "97/97 [==============================] - 2s 23ms/step - loss: 0.0705 - accuracy: 1.0000 - val_loss: 0.2395 - val_accuracy: 0.9272\n",
            "Epoch 36/48\n",
            "97/97 [==============================] - 2s 22ms/step - loss: 0.0670 - accuracy: 1.0000 - val_loss: 0.2406 - val_accuracy: 0.9272\n",
            "Epoch 37/48\n",
            "97/97 [==============================] - 2s 23ms/step - loss: 0.0637 - accuracy: 1.0000 - val_loss: 0.2393 - val_accuracy: 0.9272\n",
            "Epoch 38/48\n",
            "97/97 [==============================] - 2s 22ms/step - loss: 0.0606 - accuracy: 1.0000 - val_loss: 0.2405 - val_accuracy: 0.9272\n",
            "Epoch 39/48\n",
            "97/97 [==============================] - 2s 21ms/step - loss: 0.0577 - accuracy: 1.0000 - val_loss: 0.2409 - val_accuracy: 0.9257\n",
            "Epoch 40/48\n",
            "97/97 [==============================] - 2s 22ms/step - loss: 0.0549 - accuracy: 1.0000 - val_loss: 0.2411 - val_accuracy: 0.9257\n",
            "Epoch 41/48\n",
            "97/97 [==============================] - 2s 22ms/step - loss: 0.0523 - accuracy: 1.0000 - val_loss: 0.2428 - val_accuracy: 0.9257\n",
            "Epoch 42/48\n",
            "97/97 [==============================] - 2s 22ms/step - loss: 0.0498 - accuracy: 1.0000 - val_loss: 0.2455 - val_accuracy: 0.9257\n",
            "Epoch 43/48\n",
            "97/97 [==============================] - 2s 22ms/step - loss: 0.0475 - accuracy: 1.0000 - val_loss: 0.2553 - val_accuracy: 0.9257\n",
            "Epoch 44/48\n",
            "97/97 [==============================] - 2s 22ms/step - loss: 0.0453 - accuracy: 1.0000 - val_loss: 0.2439 - val_accuracy: 0.9272\n",
            "Epoch 45/48\n",
            "97/97 [==============================] - 2s 22ms/step - loss: 0.0432 - accuracy: 1.0000 - val_loss: 0.2621 - val_accuracy: 0.9226\n",
            "Epoch 46/48\n",
            "97/97 [==============================] - 2s 22ms/step - loss: 0.0412 - accuracy: 1.0000 - val_loss: 0.2403 - val_accuracy: 0.9288\n",
            "Epoch 47/48\n",
            "97/97 [==============================] - 2s 22ms/step - loss: 0.0393 - accuracy: 1.0000 - val_loss: 0.2438 - val_accuracy: 0.9272\n",
            "Epoch 48/48\n",
            "97/97 [==============================] - 2s 22ms/step - loss: 0.0375 - accuracy: 1.0000 - val_loss: 0.2457 - val_accuracy: 0.9272\n"
          ],
          "name": "stdout"
        }
      ]
    },
    {
      "cell_type": "code",
      "metadata": {
        "id": "syJDt76Rt1f6",
        "colab_type": "code",
        "colab": {
          "base_uri": "https://localhost:8080/",
          "height": 297
        },
        "outputId": "2ab7186f-a878-406a-861d-e69c21cd2f4d"
      },
      "source": [
        "plt.plot(history.history['loss'], label='loss')\n",
        "plt.plot(history.history['val_loss'], label = 'loss')\n",
        "plt.xlabel('Epoch')\n",
        "plt.ylabel('Accuracy')\n"
      ],
      "execution_count": 17,
      "outputs": [
        {
          "output_type": "execute_result",
          "data": {
            "text/plain": [
              "Text(0, 0.5, 'Accuracy')"
            ]
          },
          "metadata": {
            "tags": []
          },
          "execution_count": 17
        },
        {
          "output_type": "display_data",
          "data": {
            "image/png": "[encoded data removed]",
            "text/plain": [
              "<Figure size 432x288 with 1 Axes>"
            ]
          },
          "metadata": {
            "tags": [],
            "needs_background": "light"
          }
        }
      ]
    },
    {
      "cell_type": "code",
      "metadata": {
        "id": "W4Ahsc4Eld49",
        "colab_type": "code",
        "colab": {}
      },
      "source": [
        "import cv2\n",
        "image=cv2.imread(\"image.jpg\")\n",
        "Image=cv2.resize(image,(100,100))\n",
        "result=model.predict(Image)\n",
        "if(np.argmax(result)==0):\n",
        "  print('Apple')\n",
        "if(np.argmax(result)==1):\n",
        "  print('Banana')\n",
        "if(np.argmax(result)==2):\n",
        "  print('Lemon')\n",
        "if(np.argmax(result)==3):\n",
        "  print('Peach')\n",
        "if(np.argmax(result)==4):\n",
        "  print('Pineapple')"
      ],
      "execution_count": null,
      "outputs": []
    },
    {
      "cell_type": "code",
      "metadata": {
        "id": "svk7vc3KkKj3",
        "colab_type": "code",
        "colab": {}
      },
      "source": [
        "\n",
        "from pydrive.auth import GoogleAuth\n",
        "from pydrive.drive import GoogleDrive \n",
        "from google.colab import auth \n",
        "from oauth2client.client import GoogleCredentials\n",
        "from google.colab import drive\n",
        "auth.authenticate_user()\n",
        "gauth = GoogleAuth()\n",
        "gauth.credentials = GoogleCredentials.get_application_default()\n",
        "drive = GoogleDrive(gauth)\n",
        "model.save('model.h5')\n",
        "model_file = drive.CreateFile({'title' : 'model.h5'})                     \n",
        "model_file.SetContentFile('model.h5')                       \n",
        "model_file.Upload()\n",
        "drive.mount('/content/gdrive')"
      ],
      "execution_count": null,
      "outputs": []
    },
    {
      "cell_type": "code",
      "metadata": {
        "id": "MuyVPWAqk3nk",
        "colab_type": "code",
        "colab": {}
      },
      "source": [
        "import torch\n",
        "model_save_name = 'classifier.pt'\n",
        "path = F\"/content/gdrive/My Drive/ModelData/{model_save_name}\" \n",
        "torch.save(model, path)"
      ],
      "execution_count": null,
      "outputs": []
    }
  ]
}